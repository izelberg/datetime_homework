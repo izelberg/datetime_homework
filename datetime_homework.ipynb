{
 "cells": [
  {
   "cell_type": "markdown",
   "metadata": {},
   "source": [
    "Задание 1\n",
    "Печатные газеты использовали свой формат дат для каждого выпуска. Для каждой газеты из списка напишите формат указанной даты для перевода в объект datetime:\n",
    "The Moscow Times - Wednesday, October 2, 2002\n",
    "The Guardian - Friday, 11.10.13\n",
    "Daily News - Thursday, 18 August 1977"
   ]
  },
  {
   "cell_type": "code",
   "execution_count": 39,
   "metadata": {},
   "outputs": [],
   "source": [
    "from datetime import datetime, timedelta"
   ]
  },
  {
   "cell_type": "code",
   "execution_count": 13,
   "metadata": {},
   "outputs": [
    {
     "name": "stdout",
     "output_type": "stream",
     "text": [
      "2002-10-02 00:00:00\n",
      "2013-10-11 00:00:00\n",
      "1977-08-18 00:00:00\n"
     ]
    }
   ],
   "source": [
    "date_string_The_Moscow_Times = 'Wednesday, October 2, 2002'\n",
    "date_string_The_Guardian = 'Friday, 11.10.13'\n",
    "date_string_Daily_News = 'Thursday, 18 August 1977'\n",
    "date_datetime1 = datetime.strptime(date_string_The_Moscow_Times, '%A, %B %d, %Y')\n",
    "date_datetime2 = datetime.strptime(date_string_The_Guardian, '%A, %d.%m.%y')\n",
    "date_datetime3 = datetime.strptime(date_string_Daily_News, '%A, %d %B %Y')\n",
    "print(date_datetime1)\n",
    "print(date_datetime2)\n",
    "print(date_datetime3)"
   ]
  },
  {
   "cell_type": "markdown",
   "metadata": {},
   "source": [
    "Задание 2\n",
    "Дан поток дат в формате YYYY-MM-DD, в которых встречаются некорректные значения:\n",
    "stream = [‘2018-04-02’, ‘2018-02-29’, ‘2018-19-02’]\n",
    "\n",
    "Напишите функцию, которая проверяет эти даты на корректность. Т. е. для каждой даты возвращает True (дата корректна) или False (некорректная дата)."
   ]
  },
  {
   "cell_type": "code",
   "execution_count": 28,
   "metadata": {},
   "outputs": [
    {
     "name": "stdout",
     "output_type": "stream",
     "text": [
      "2018-04-02 00:00:00 - дата корректна\n",
      "2018-02-29 - неверный формат даты\n",
      "2018-19-02 - неверный формат даты\n",
      "Список проверен\n"
     ]
    }
   ],
   "source": [
    "def date_format_check (date_stream):\n",
    "    for date in date_stream:\n",
    "        try:\n",
    "            date_correct = datetime.strptime(date, '%Y-%m-%d')\n",
    "            print(date_correct, '- дата корректна')\n",
    "        except ValueError:\n",
    "            print (date, '- неверный формат даты')\n",
    "    print ('Список проверен')\n",
    "\n",
    "date_stream = ['2018-04-02', '2018-02-29', '2018-19-02']\n",
    "date_format_check (date_stream)"
   ]
  },
  {
   "cell_type": "markdown",
   "metadata": {},
   "source": [
    "Задание 3\n",
    "Напишите функцию date_range, которая возвращает список дат за период от start_date до end_date. Даты должны вводиться в формате YYYY-MM-DD. В случае неверного формата или при start_date > end_date должен возвращаться пустой список."
   ]
  },
  {
   "cell_type": "code",
   "execution_count": 65,
   "metadata": {},
   "outputs": [
    {
     "name": "stdout",
     "output_type": "stream",
     "text": [
      "2021-03-03  - начало\n",
      "2021-03-08  - окончание\n",
      "2021-03-04, 2021-03-05, 2021-03-06, 2021-03-07, 2021-03-08  - промежуточные даты\n"
     ]
    }
   ],
   "source": [
    "def date_range(start_date, end_date):\n",
    "    date_range = []\n",
    "    try:\n",
    "        start_date_convert = datetime.strptime(start_date, '%Y-%m-%d')\n",
    "        end_date_convert = datetime.strptime(end_date, '%Y-%m-%d')\n",
    "\n",
    "        if end_date_convert > start_date_convert:\n",
    "            date_current = start_date_convert\n",
    "            while date_current != end_date_convert:\n",
    "                date_current = date_current + timedelta(days=1)\n",
    "                date_range.append(date_current.strftime ('%Y-%m-%d'))\n",
    "            print (start_date, ' - начало')\n",
    "            print (end_date, ' - окончание')\n",
    "            #print (date_range, ' - промежуточные даты')\n",
    "            print(', '.join(date_range), ' - промежуточные даты')\n",
    "        elif end_date_convert == start_date_convert:\n",
    "            print (date_range, '- даты начала и окончания совпадают', start_date)\n",
    "        else:\n",
    "            print (date_range, '- дата окончания не может быть раньше даты начала')\n",
    "\n",
    "    except ValueError:\n",
    "        print (date_range, '- неверный формат даты')\n",
    "\n",
    "start_date = '2021-03-03'\n",
    "end_date = '2021-03-08'\n",
    "\n",
    "date_range(start_date, end_date)"
   ]
  }
 ],
 "metadata": {
  "kernelspec": {
   "display_name": "Python 3",
   "language": "python",
   "name": "python3"
  },
  "language_info": {
   "codemirror_mode": {
    "name": "ipython",
    "version": 3
   },
   "file_extension": ".py",
   "mimetype": "text/x-python",
   "name": "python",
   "nbconvert_exporter": "python",
   "pygments_lexer": "ipython3",
   "version": "3.8.5"
  }
 },
 "nbformat": 4,
 "nbformat_minor": 4
}
